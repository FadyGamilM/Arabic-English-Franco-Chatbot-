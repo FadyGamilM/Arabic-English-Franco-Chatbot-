{
 "cells": [
  {
   "cell_type": "code",
   "execution_count": 1,
   "metadata": {},
   "outputs": [],
   "source": [
    "import tensorflow as tf\n",
    "import numpy as np\n",
    "import pandas as pd\n",
    "import json\n",
    "import nltk"
   ]
  },
  {
   "cell_type": "code",
   "execution_count": 2,
   "metadata": {},
   "outputs": [],
   "source": [
    "from tensorflow.keras.preprocessing.text import Tokenizer\n",
    "from tensorflow.keras.layers import Input, Embedding, LSTM, Dense, GlobalMaxPooling1D, Flatten\n",
    "from tensorflow.keras.models import Model\n",
    "import matplotlib.pyplot as plt"
   ]
  },
  {
   "cell_type": "code",
   "execution_count": 37,
   "metadata": {},
   "outputs": [],
   "source": [
    "with open('intents.json', encoding=\"utf8\") as content:\n",
    "   data1 = json.load(content)"
   ]
  },
  {
   "cell_type": "code",
   "execution_count": 38,
   "metadata": {},
   "outputs": [],
   "source": [
    "# getting the data into list format\n",
    "tags = []\n",
    "inputs = []\n",
    "responses = {}\n",
    "for intent in data1[\"intents\"]:\n",
    "   responses[intent[\"tag\"]] = intent['responses']\n",
    "   for pattern in intent[\"patterns\"]:\n",
    "      inputs.append(pattern)\n",
    "      tags.append(intent['tag'])\n",
    "\n"
   ]
  },
  {
   "cell_type": "code",
   "execution_count": 39,
   "metadata": {},
   "outputs": [
    {
     "name": "stdout",
     "output_type": "stream",
     "text": [
      "ازيك ، يارب يومك يكون كويس.ازاي اقدر اساعدك؟\n",
      "اهلا، اقدر اساعد حضرتك في ايه ؟\n",
      "اهلا بيك، يا تري اقدر اساعدك ازاي\n",
      "عامل ايه، قولي اساعدك ازاي ؟\n",
      "اقدر اساعد حضرتك ازاي؟\n",
      "--------------------------------------------\n",
      "['عيادة', 'عايز اعرف في كام عيادة هنا', 'اية العيادات المتسجلة عالموعع ده'] ['عيادة', 'عيادة', 'عيادة']\n",
      "['مساء الخير', 'صباح الخير'] ['ترحيب', 'ترحيب']\n"
     ]
    }
   ],
   "source": [
    "for response in responses[\"ترحيب\"]:\n",
    "   print(response)\n",
    "print(\"--------------------------------------------\")\n",
    "print(inputs[177:180], tags[177:180])\n",
    "print(inputs[0:2], tags[0:2])"
   ]
  },
  {
   "cell_type": "code",
   "execution_count": 40,
   "metadata": {},
   "outputs": [
    {
     "data": {
      "text/html": [
       "<div>\n",
       "<style scoped>\n",
       "    .dataframe tbody tr th:only-of-type {\n",
       "        vertical-align: middle;\n",
       "    }\n",
       "\n",
       "    .dataframe tbody tr th {\n",
       "        vertical-align: top;\n",
       "    }\n",
       "\n",
       "    .dataframe thead th {\n",
       "        text-align: right;\n",
       "    }\n",
       "</style>\n",
       "<table border=\"1\" class=\"dataframe\">\n",
       "  <thead>\n",
       "    <tr style=\"text-align: right;\">\n",
       "      <th></th>\n",
       "      <th>inputs</th>\n",
       "      <th>tags</th>\n",
       "    </tr>\n",
       "  </thead>\n",
       "  <tbody>\n",
       "    <tr>\n",
       "      <th>0</th>\n",
       "      <td>مساء الخير</td>\n",
       "      <td>ترحيب</td>\n",
       "    </tr>\n",
       "    <tr>\n",
       "      <th>1</th>\n",
       "      <td>صباح الخير</td>\n",
       "      <td>ترحيب</td>\n",
       "    </tr>\n",
       "    <tr>\n",
       "      <th>2</th>\n",
       "      <td>هاي</td>\n",
       "      <td>ترحيب</td>\n",
       "    </tr>\n",
       "    <tr>\n",
       "      <th>3</th>\n",
       "      <td>اهلا</td>\n",
       "      <td>ترحيب</td>\n",
       "    </tr>\n",
       "    <tr>\n",
       "      <th>4</th>\n",
       "      <td>صباحو</td>\n",
       "      <td>ترحيب</td>\n",
       "    </tr>\n",
       "    <tr>\n",
       "      <th>...</th>\n",
       "      <td>...</td>\n",
       "      <td>...</td>\n",
       "    </tr>\n",
       "    <tr>\n",
       "      <th>1394</th>\n",
       "      <td>i wanna add phone no</td>\n",
       "      <td>تعديل بروفايل</td>\n",
       "    </tr>\n",
       "    <tr>\n",
       "      <th>1395</th>\n",
       "      <td>i wanna change my address</td>\n",
       "      <td>تعديل بروفايل</td>\n",
       "    </tr>\n",
       "    <tr>\n",
       "      <th>1396</th>\n",
       "      <td>اجيب فصيلة الدم منين</td>\n",
       "      <td>تعديل بروفايل</td>\n",
       "    </tr>\n",
       "    <tr>\n",
       "      <th>1397</th>\n",
       "      <td>عايز احط رقم موبايلي</td>\n",
       "      <td>تعديل بروفايل</td>\n",
       "    </tr>\n",
       "    <tr>\n",
       "      <th>1398</th>\n",
       "      <td>i want to change my blood type</td>\n",
       "      <td>تعديل بروفايل</td>\n",
       "    </tr>\n",
       "  </tbody>\n",
       "</table>\n",
       "<p>1399 rows × 2 columns</p>\n",
       "</div>"
      ],
      "text/plain": [
       "                              inputs           tags\n",
       "0                         مساء الخير          ترحيب\n",
       "1                         صباح الخير          ترحيب\n",
       "2                                هاي          ترحيب\n",
       "3                               اهلا          ترحيب\n",
       "4                              صباحو          ترحيب\n",
       "...                              ...            ...\n",
       "1394            i wanna add phone no  تعديل بروفايل\n",
       "1395       i wanna change my address  تعديل بروفايل\n",
       "1396            اجيب فصيلة الدم منين  تعديل بروفايل\n",
       "1397            عايز احط رقم موبايلي  تعديل بروفايل\n",
       "1398  i want to change my blood type  تعديل بروفايل\n",
       "\n",
       "[1399 rows x 2 columns]"
      ]
     },
     "execution_count": 40,
     "metadata": {},
     "output_type": "execute_result"
    }
   ],
   "source": [
    "# tabulaize our data \n",
    "data = pd.DataFrame({\n",
    "   \"inputs\": inputs,\n",
    "   \"tags\": tags\n",
    "})\n",
    "data"
   ]
  },
  {
   "cell_type": "markdown",
   "metadata": {},
   "source": [
    "# Pre-Processing"
   ]
  },
  {
   "cell_type": "code",
   "execution_count": 42,
   "metadata": {},
   "outputs": [],
   "source": [
    "from tensorflow.keras.preprocessing.sequence import pad_sequences"
   ]
  },
  {
   "cell_type": "code",
   "execution_count": 43,
   "metadata": {},
   "outputs": [],
   "source": [
    "tokenizer = Tokenizer(num_words=2000)\n",
    "tokenizer.fit_on_texts(data[\"inputs\"])\n",
    "train = tokenizer.texts_to_sequences(data[\"inputs\"])\n",
    "\n",
    "# padding\n",
    "x_train = pad_sequences(train)\n",
    "\n",
    "# encoding the outputs\n",
    "from sklearn.preprocessing import LabelEncoder\n",
    "le = LabelEncoder()\n",
    "y_train = le.fit_transform(data[\"tags\"])"
   ]
  },
  {
   "cell_type": "code",
   "execution_count": 53,
   "metadata": {},
   "outputs": [
    {
     "data": {
      "text/plain": [
       "(array([   0,    0,    0,    0,    0,    0,   40,  392,  317,   73, 1390]), 7)"
      ]
     },
     "execution_count": 53,
     "metadata": {},
     "output_type": "execute_result"
    }
   ],
   "source": [
    "x_train[17], y_train[17]\n",
    "x_train[1395], y_train[1395] # 5  words in the pattern , their tag takes number 7"
   ]
  },
  {
   "cell_type": "code",
   "execution_count": 54,
   "metadata": {},
   "outputs": [
    {
     "data": {
      "text/plain": [
       "'i wanna change my address'"
      ]
     },
     "execution_count": 54,
     "metadata": {},
     "output_type": "execute_result"
    }
   ],
   "source": [
    "data[\"inputs\"][1395]"
   ]
  },
  {
   "cell_type": "code",
   "execution_count": 55,
   "metadata": {},
   "outputs": [
    {
     "name": "stdout",
     "output_type": "stream",
     "text": [
      "11\n"
     ]
    }
   ],
   "source": [
    "input_shape = x_train.shape[1]\n",
    "print(input_shape) # 11 inputs at the input layer"
   ]
  },
  {
   "cell_type": "code",
   "execution_count": 56,
   "metadata": {},
   "outputs": [
    {
     "name": "stdout",
     "output_type": "stream",
     "text": [
      "number of unique words :  1393\n",
      "output length:  23\n"
     ]
    }
   ],
   "source": [
    "# define the vocab \n",
    "vocab = len(tokenizer.word_index)\n",
    "print(\"number of unique words : \", vocab)\n",
    "\n",
    "output_length = le.classes_.shape[0]\n",
    "print(\"output length: \", output_length) # we have 23 outputs as we have 23 tags "
   ]
  },
  {
   "cell_type": "code",
   "execution_count": null,
   "metadata": {},
   "outputs": [],
   "source": []
  }
 ],
 "metadata": {
  "kernelspec": {
   "display_name": "Python 3.9.6 64-bit",
   "language": "python",
   "name": "python3"
  },
  "language_info": {
   "codemirror_mode": {
    "name": "ipython",
    "version": 3
   },
   "file_extension": ".py",
   "mimetype": "text/x-python",
   "name": "python",
   "nbconvert_exporter": "python",
   "pygments_lexer": "ipython3",
   "version": "3.9.6"
  },
  "orig_nbformat": 4,
  "vscode": {
   "interpreter": {
    "hash": "e24c49cb70330bda4278cf1d73522e240c5ff00972b9664bed3bfe636b47b7ca"
   }
  }
 },
 "nbformat": 4,
 "nbformat_minor": 2
}
